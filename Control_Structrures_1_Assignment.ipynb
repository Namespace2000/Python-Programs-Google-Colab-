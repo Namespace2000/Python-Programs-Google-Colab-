{
  "nbformat": 4,
  "nbformat_minor": 0,
  "metadata": {
    "colab": {
      "name": "Control Structrures 1 Assignment.ipynb",
      "provenance": [],
      "collapsed_sections": [],
      "authorship_tag": "ABX9TyNQFD2Ot/6i/BjipliG0gl6",
      "include_colab_link": true
    },
    "kernelspec": {
      "name": "python3",
      "display_name": "Python 3"
    }
  },
  "cells": [
    {
      "cell_type": "markdown",
      "metadata": {
        "id": "view-in-github",
        "colab_type": "text"
      },
      "source": [
        "<a href=\"https://colab.research.google.com/github/Namespace2000/Python-Programs-Google-Colab-/blob/main/Control_Structrures_1_Assignment.ipynb\" target=\"_parent\"><img src=\"https://colab.research.google.com/assets/colab-badge.svg\" alt=\"Open In Colab\"/></a>"
      ]
    },
    {
      "cell_type": "markdown",
      "metadata": {
        "id": "ubPlI1erGw5q"
      },
      "source": [
        "Write a Python program and submit the IPython Notebook and corresponding pdf version. Please use modular programming approach (use functions)."
      ]
    },
    {
      "cell_type": "markdown",
      "metadata": {
        "id": "DjFK3-zCE6_L"
      },
      "source": [
        "1. Sum of digits of a number"
      ]
    },
    {
      "cell_type": "code",
      "metadata": {
        "id": "31slyMeRFDZe"
      },
      "source": [
        "num=input('Enter your Number : ')\r\n",
        "sum=0\r\n",
        "def Sum():\r\n",
        "  for i in str(num):\r\n",
        "    global sum\r\n",
        "    sum+=int(i)\r\n",
        "  print('Sum of digits of the number is :',sum)\r\n",
        "Sum()"
      ],
      "execution_count": null,
      "outputs": []
    },
    {
      "cell_type": "markdown",
      "metadata": {
        "id": "gIGYuxn2GwN4"
      },
      "source": [
        "2. Print the following patterns\r\n",
        "\r\n",
        "A. \r\n",
        "       1   2   3   4   5\r\n",
        "       1   2   3   4 \r\n",
        "       1   2   3  \r\n",
        "       1   2   \r\n",
        "       1  "
      ]
    },
    {
      "cell_type": "code",
      "metadata": {
        "id": "8oTKfDsVHB_8"
      },
      "source": [
        "size=int(input('Enter the size of pattern : '))\r\n",
        "num=1\r\n",
        "def Pattern():\r\n",
        "  global size,num\r\n",
        "  for i in range(0,size):\r\n",
        "    for j in range(0,size):\r\n",
        "      print(num,end=\" \")\r\n",
        "      num=num+1\r\n",
        "    print('\\r')\r\n",
        "    num=1\r\n",
        "    size=size-1  \r\n",
        "    \r\n",
        "Pattern()\r\n"
      ],
      "execution_count": null,
      "outputs": []
    },
    {
      "cell_type": "markdown",
      "metadata": {
        "id": "ndTnirtoNMY1"
      },
      "source": [
        "B. 5\r\n",
        "   5 4\r\n",
        "   5 4 3\r\n",
        "   5 4 3 2\r\n",
        "   5 4 3 2 1"
      ]
    },
    {
      "cell_type": "code",
      "metadata": {
        "id": "bvvQ6b7gNjMv"
      },
      "source": [
        "size=int(input('Enter the size of pattern : '))\r\n",
        "row=size\r\n",
        "num=size\r\n",
        "def pattern():\r\n",
        "  global size,row,num\r\n",
        "  for i in range(0,row):\r\n",
        "    for j in range(row,size+1):\r\n",
        "      print(num,end=\" \")\r\n",
        "      num=num-1\r\n",
        "    print('\\r')\r\n",
        "    num=row\r\n",
        "    size=size+1  \r\n",
        "\r\n",
        "pattern()    "
      ],
      "execution_count": null,
      "outputs": []
    },
    {
      "cell_type": "markdown",
      "metadata": {
        "id": "ejmEe1hpQJou"
      },
      "source": [
        "C.    1\r\n",
        "    2 1 2\r\n",
        "  3 2 1 2 3 \r\n"
      ]
    },
    {
      "cell_type": "code",
      "metadata": {
        "id": "iCHvu_N6QhHg"
      },
      "source": [
        "row=int(input(\"Enter the size of pattern : \"))\r\n",
        "def pattern():\r\n",
        "  for i in range(1,row+1):\r\n",
        "    num=i\r\n",
        "    for j in range(row,0,-1):\r\n",
        "      if j>i:\r\n",
        "        print(\" \",end=' ')\r\n",
        "      else:\r\n",
        "        print(num,end=\" \")\r\n",
        "        num=num-1\r\n",
        "    for k in range(2,i+1):\r\n",
        "      print(k,end=\" \")\r\n",
        "\r\n",
        "    print(\"\")  \r\n",
        "\r\n",
        "pattern()"
      ],
      "execution_count": null,
      "outputs": []
    },
    {
      "cell_type": "code",
      "metadata": {
        "id": "aMn70JQMY8O7"
      },
      "source": [
        ""
      ],
      "execution_count": null,
      "outputs": []
    }
  ]
}
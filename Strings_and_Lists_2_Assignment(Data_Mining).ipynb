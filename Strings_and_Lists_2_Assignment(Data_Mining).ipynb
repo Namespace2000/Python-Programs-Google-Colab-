{
  "nbformat": 4,
  "nbformat_minor": 0,
  "metadata": {
    "colab": {
      "name": "Strings and Lists 2 Assignment(Data Mining).ipynb",
      "provenance": [],
      "authorship_tag": "ABX9TyO4mX5CbUyohPaK0Sj7ucrT",
      "include_colab_link": true
    },
    "kernelspec": {
      "name": "python3",
      "display_name": "Python 3"
    }
  },
  "cells": [
    {
      "cell_type": "markdown",
      "metadata": {
        "id": "view-in-github",
        "colab_type": "text"
      },
      "source": [
        "<a href=\"https://colab.research.google.com/github/Namespace2000/Python-Programs-Google-Colab-/blob/main/Strings_and_Lists_2_Assignment(Data_Mining).ipynb\" target=\"_parent\"><img src=\"https://colab.research.google.com/assets/colab-badge.svg\" alt=\"Open In Colab\"/></a>"
      ]
    },
    {
      "cell_type": "markdown",
      "metadata": {
        "id": "6x0F8YS8zTaY"
      },
      "source": [
        "1. WAP that takes a sentence as an input and convert the text in sentence to pig latin.\r\n",
        "Pig-Latin takes the first letter of a word, puts it at the end, and appends ay. The only exception is if the first letter is a vowel, in which case we keep it as it is and append hay to the end.\r\n",
        "    E.g. hello -> ellohay, and image -> imagehay"
      ]
    },
    {
      "cell_type": "code",
      "metadata": {
        "id": "hOvJ-s89yBZy"
      },
      "source": [
        "def isVowel(c): \r\n",
        "    return (c == 'A' or c == 'E' or c == 'I' or\r\n",
        "            c == 'O' or c == 'U' or c == 'a' or\r\n",
        "            c == 'e' or c == 'i' or c == 'o' or\r\n",
        "            c == 'u'); \r\n",
        "text=input(\"Enter any string : \")\r\n",
        "if(isVowel(text[0])):\r\n",
        "  print(\"Pig-latin word is : \", text[1:]+\"hay\")\r\n",
        "else:\r\n",
        "  print(\"Pig-latin word is : \", text[1:]+text[0]+\"ay\")"
      ],
      "execution_count": null,
      "outputs": []
    },
    {
      "cell_type": "markdown",
      "metadata": {
        "id": "oE22GiVV2MSW"
      },
      "source": [
        "2. WAP that takes a list as an input and returns another list without duplicate values."
      ]
    },
    {
      "cell_type": "code",
      "metadata": {
        "id": "7KfuxFCm2ZOl"
      },
      "source": [
        "lst=[]\r\n",
        "size=int(input('Enter the size of your list : '))\r\n",
        "for i in range(0,size):\r\n",
        "  print('Enter',i+1,'item of your list : ',end=\"\")\r\n",
        "  lst.append(input())\r\n",
        "\r\n",
        "print('Your entered list is : ',lst)\r\n",
        "\r\n",
        "def removeDuplicate(lst):\r\n",
        "  finalList=[]\r\n",
        "  for item in lst:\r\n",
        "    if item not in finalList:\r\n",
        "      finalList.append(item)\r\n",
        "  return finalList\r\n",
        "\r\n",
        "print('List after removing duplicate values : ',removeDuplicate(lst))"
      ],
      "execution_count": null,
      "outputs": []
    },
    {
      "cell_type": "markdown",
      "metadata": {
        "id": "F6slfNSz9366"
      },
      "source": [
        "3. WAP that takes a list as an input and returns the reversed list"
      ]
    },
    {
      "cell_type": "code",
      "metadata": {
        "id": "3_enFwEV9-2T"
      },
      "source": [
        "lst=[]\r\n",
        "size=int(input('Enter the size of your list : '))\r\n",
        "for i in range(0,size):\r\n",
        "  print('Enter',i+1,'item of your list : ',end=\"\")\r\n",
        "  lst.append(input())\r\n",
        "\r\n",
        "print('Your entered list is : ',lst)\r\n",
        "\r\n",
        "def reverseList(lst):\r\n",
        "    rev_lst = []\r\n",
        "    for x in lst:\r\n",
        "      i=0\r\n",
        "      rev_lst.insert(i, x)\r\n",
        "      i=i+1\r\n",
        "    return rev_lst\r\n",
        "print('Reverse of the list is : ',reverseList(lst))"
      ],
      "execution_count": null,
      "outputs": []
    }
  ]
}